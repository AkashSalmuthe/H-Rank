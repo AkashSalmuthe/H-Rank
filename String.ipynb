{
  "nbformat": 4,
  "nbformat_minor": 0,
  "metadata": {
    "colab": {
      "name": "String.ipynb",
      "provenance": [],
      "collapsed_sections": [],
      "authorship_tag": "ABX9TyPjrFkOuHhSDmO6ajpcNvur",
      "include_colab_link": true
    },
    "kernelspec": {
      "name": "python3",
      "display_name": "Python 3"
    },
    "language_info": {
      "name": "python"
    }
  },
  "cells": [
    {
      "cell_type": "markdown",
      "metadata": {
        "id": "view-in-github",
        "colab_type": "text"
      },
      "source": [
        "<a href=\"https://colab.research.google.com/github/AkashSalmuthe/H-Rank/blob/main/String.ipynb\" target=\"_parent\"><img src=\"https://colab.research.google.com/assets/colab-badge.svg\" alt=\"Open In Colab\"/></a>"
      ]
    },
    {
      "cell_type": "markdown",
      "source": [
        "## **Problem 1**\n",
        "\n",
        "### Swap case"
      ],
      "metadata": {
        "id": "UMLE9lTRn4o5"
      }
    },
    {
      "cell_type": "markdown",
      "source": [
        "You are given a string and your task is to swap cases. In other words, convert all lowercase letters to uppercase letters and vice versa."
      ],
      "metadata": {
        "id": "os2qodrgoL4V"
      }
    },
    {
      "cell_type": "code",
      "source": [
        "def swap_case(s):\n",
        "    return s.swapcase()\n",
        "\n",
        "s = input()\n",
        "result = swap_case(s)\n",
        "print(result)"
      ],
      "metadata": {
        "colab": {
          "base_uri": "https://localhost:8080/"
        },
        "id": "Wa_ZgkPloMuD",
        "outputId": "2ed6ac61-9178-4b97-a4a4-5bd3b1be7a2c"
      },
      "execution_count": 1,
      "outputs": [
        {
          "output_type": "stream",
          "name": "stdout",
          "text": [
            "Akash Salmuthe\n",
            "aKASH sALMUTHE\n"
          ]
        }
      ]
    },
    {
      "cell_type": "markdown",
      "source": [
        "## **Problem 2**\n",
        "\n",
        "### Split And Join"
      ],
      "metadata": {
        "id": "aXOdJhbNpkfH"
      }
    },
    {
      "cell_type": "markdown",
      "source": [
        "You are given a string. Split the string on a \" \" (space) delimiter and join using a - hyphen."
      ],
      "metadata": {
        "id": "3cn7TJm9psQP"
      }
    },
    {
      "cell_type": "code",
      "source": [
        "def swap_n_join(line):\n",
        "  str1 = line.split(\" \")\n",
        "  str2 = \"-\".join(str1)\n",
        "  return str2\n",
        "\n",
        "line=input()\n",
        "print(swap_n_join(line))"
      ],
      "metadata": {
        "colab": {
          "base_uri": "https://localhost:8080/"
        },
        "id": "GS94WEvOpTY2",
        "outputId": "d1b4765f-a62e-4f1a-c1ea-ff5b1923e369"
      },
      "execution_count": 2,
      "outputs": [
        {
          "output_type": "stream",
          "name": "stdout",
          "text": [
            "Akash Salmthe\n",
            "Akash-Salmthe\n"
          ]
        }
      ]
    },
    {
      "cell_type": "markdown",
      "source": [
        "## **Problem 3**\n",
        "\n",
        "### Print Full Name\n",
        "\n",
        "You are given the firstname and lastname of a person on two different lines. Your task is to read them and print the following:\n",
        "\n",
        "Hello firstname lastname! You just delved into python.\n",
        "\n",
        "**Function Description**\n",
        "\n",
        "Complete the print_full_name function in the editor below.\n",
        "\n",
        "**print_full_name has the following parameters:**\n",
        "\n",
        "* string first: the first name\n",
        "* string last: the last name"
      ],
      "metadata": {
        "id": "UVwAYaqSy3ee"
      }
    },
    {
      "cell_type": "code",
      "source": [
        "def print_full_name(first, last):\n",
        "    # Write your code here\n",
        "    full_name = first+\" \"+last\n",
        "    print(\"Hello \"+full_name+\"! You just delved into python.\")\n",
        "    \n",
        "\n",
        "first_name = input()\n",
        "last_name = input()\n",
        "print_full_name(first_name, last_name)"
      ],
      "metadata": {
        "colab": {
          "base_uri": "https://localhost:8080/"
        },
        "id": "bjtTJdyfrJiq",
        "outputId": "8349e27a-0799-4ddc-92c9-af1ca20e353d"
      },
      "execution_count": 4,
      "outputs": [
        {
          "output_type": "stream",
          "name": "stdout",
          "text": [
            "Akash\n",
            "Salmuthe\n",
            "Hello Akash Salmuthe! You just delved into python.\n"
          ]
        }
      ]
    },
    {
      "cell_type": "markdown",
      "source": [
        "## **Problem 4**\n",
        "\n",
        "### Mutation\n",
        "\n",
        "We have seen that lists are mutable (they can be changed), and tuples are immutable (they cannot be changed).\n",
        "\n",
        "Let's try to understand this with an example.\n",
        "\n",
        "You are given an **immutable string**, and you want to make changes to it."
      ],
      "metadata": {
        "id": "d9ilsHU30VbX"
      }
    },
    {
      "cell_type": "markdown",
      "source": [
        "**Task**\n",
        "Read a given string, change the character at a given index and then print the modified string.\n",
        "\n",
        "**Function Description**\n",
        "Complete the mutate_string function in the editor below.\n",
        "\n",
        "**mutate_string has the following parameters**:\n",
        "* string string: the string to change\n",
        "* int position: the index to insert the character at\n",
        "* string character: the character to insert\n",
        "\n",
        "**Returns**\n",
        "string: the altered string"
      ],
      "metadata": {
        "id": "OKtbsq291fbj"
      }
    },
    {
      "cell_type": "code",
      "source": [
        "def mutate_string(string,position,character):\n",
        "  lst = list(string)\n",
        "  lst[position] = character\n",
        "  new_string = \"\".join(lst)\n",
        "  print(new_string)\n",
        "\n",
        "s= input()\n",
        "i, c = input().split()\n",
        "s_new = mutate_string(s, int(i), c)\n"
      ],
      "metadata": {
        "colab": {
          "base_uri": "https://localhost:8080/"
        },
        "id": "Gi-Myjl_1teg",
        "outputId": "7f360059-96fe-4649-edbb-91c94d6fb5bb"
      },
      "execution_count": 9,
      "outputs": [
        {
          "output_type": "stream",
          "name": "stdout",
          "text": [
            "Akash Salmuthe\n",
            "5 -\n",
            "Akash-Salmuthe\n"
          ]
        }
      ]
    },
    {
      "cell_type": "markdown",
      "source": [
        "## **Problem 5**\n",
        "\n",
        "### Find a String"
      ],
      "metadata": {
        "id": "w0NzGZ6S37lm"
      }
    },
    {
      "cell_type": "markdown",
      "source": [
        "In this challenge, the user enters a string and a substring. You have to print the number of times that the substring occurs in the given string. String traversal will take place from left to right, not from right to left.\n",
        "\n",
        "**NOTE:** String letters are case-sensitive."
      ],
      "metadata": {
        "id": "seLBUPgB4AaL"
      }
    },
    {
      "cell_type": "code",
      "source": [
        "def count_substring(string, sub_string):\n",
        "    count = 0\n",
        "    for i in range(len(string)-len(sub_string)+1):\n",
        "        if string[i:len(sub_string)+i] == sub_string:\n",
        "            count += 1\n",
        "    return count\n",
        "\n",
        "string = input().strip()\n",
        "sub_string = input().strip()\n",
        "count = count_substring(string, sub_string)\n",
        "print(count)"
      ],
      "metadata": {
        "colab": {
          "base_uri": "https://localhost:8080/"
        },
        "id": "AXA-kA2V2Hv9",
        "outputId": "06e4bedf-d904-499d-bb03-35b0b13f4f33"
      },
      "execution_count": 10,
      "outputs": [
        {
          "output_type": "stream",
          "name": "stdout",
          "text": [
            "Abcdcdcd\n",
            "cdcd\n",
            "2\n"
          ]
        }
      ]
    },
    {
      "cell_type": "markdown",
      "source": [
        "## Problem 6\n",
        "\n",
        "### Text Alignment"
      ],
      "metadata": {
        "id": "9v4uYcI563BI"
      }
    },
    {
      "cell_type": "markdown",
      "source": [
        "You are given a partial code that is used for generating the HackerRank Logo of variable thickness.\n",
        "\n",
        "Your task is to replace the blank (______) with rjust, ljust or center.\n",
        "\n",
        "**Input Format**\n",
        "\n",
        "A single line containing the thickness value for the logo."
      ],
      "metadata": {
        "id": "PrZht-_m698h"
      }
    },
    {
      "cell_type": "code",
      "source": [
        "#Replace all ______ with rjust, ljust or center. \n",
        "\n",
        "thickness = int(input()) #This must be an odd number\n",
        "c = 'H'\n",
        "\n",
        "#Top Cone\n",
        "for i in range(thickness):\n",
        "    print((c*i).rjust(thickness-1)+c+(c*i).ljust(thickness-1))\n",
        "\n",
        "#Top Pillars\n",
        "for i in range(thickness+1):\n",
        "    print((c*thickness).center(thickness*2)+(c*thickness).center(thickness*6))\n",
        "\n",
        "#Middle Belt\n",
        "for i in range((thickness+1)//2):\n",
        "    print((c*thickness*5).center(thickness*6))    \n",
        "\n",
        "#Bottom Pillars\n",
        "for i in range(thickness+1):\n",
        "    print((c*thickness).center(thickness*2)+(c*thickness).center(thickness*6))    \n",
        "\n",
        "#Bottom Cone\n",
        "for i in range(thickness):\n",
        "    print(((c*(thickness-i-1)).rjust(thickness)+c+(c*(thickness-i-1)).ljust(thickness)).rjust(thickness*6))"
      ],
      "metadata": {
        "colab": {
          "base_uri": "https://localhost:8080/"
        },
        "id": "pWk-Vwsd7EmB",
        "outputId": "acb820ef-07b2-4bde-f691-54d5979735a5"
      },
      "execution_count": 11,
      "outputs": [
        {
          "output_type": "stream",
          "name": "stdout",
          "text": [
            "5\n",
            "    H    \n",
            "   HHH   \n",
            "  HHHHH  \n",
            " HHHHHHH \n",
            "HHHHHHHHH\n",
            "  HHHHH               HHHHH             \n",
            "  HHHHH               HHHHH             \n",
            "  HHHHH               HHHHH             \n",
            "  HHHHH               HHHHH             \n",
            "  HHHHH               HHHHH             \n",
            "  HHHHH               HHHHH             \n",
            "  HHHHHHHHHHHHHHHHHHHHHHHHH   \n",
            "  HHHHHHHHHHHHHHHHHHHHHHHHH   \n",
            "  HHHHHHHHHHHHHHHHHHHHHHHHH   \n",
            "  HHHHH               HHHHH             \n",
            "  HHHHH               HHHHH             \n",
            "  HHHHH               HHHHH             \n",
            "  HHHHH               HHHHH             \n",
            "  HHHHH               HHHHH             \n",
            "  HHHHH               HHHHH             \n",
            "                    HHHHHHHHH \n",
            "                     HHHHHHH  \n",
            "                      HHHHH   \n",
            "                       HHH    \n",
            "                        H     \n"
          ]
        }
      ]
    },
    {
      "cell_type": "markdown",
      "source": [
        "## **Problem 7**\n",
        "\n",
        "### Text Wrap"
      ],
      "metadata": {
        "id": "9KLbVDkJ-VeW"
      }
    },
    {
      "cell_type": "markdown",
      "source": [
        "You are given a string S and width W .\n",
        "Your task is to wrap the string into a paragraph of width .\n",
        "\n",
        "**Function Description**\n",
        "\n",
        "Complete the wrap function in the editor below.\n",
        "\n",
        "**wrap has the following parameters:**\n",
        "\n",
        "* string string: a long string\n",
        "* int max_width: the width to wrap to\n",
        "\n",
        "**Returns**\n",
        "* string: a single string with newline characters ('\\n') where the breaks should be"
      ],
      "metadata": {
        "id": "zaxDIxMG-fgD"
      }
    },
    {
      "cell_type": "code",
      "source": [
        "import textwrap\n",
        "\n",
        "def wrap(string, max_width):\n",
        "    \n",
        "    return\n",
        "\n",
        "    string, max_width = input(), int(input())\n",
        "    result = wrap(string, max_width)\n",
        "    print(result)"
      ],
      "metadata": {
        "id": "3lBAmoeV8LM7"
      },
      "execution_count": 12,
      "outputs": []
    },
    {
      "cell_type": "markdown",
      "source": [
        "### **Problem 7**\n",
        "\n",
        "### Capitalize"
      ],
      "metadata": {
        "id": "I2pokFvEVq9q"
      }
    },
    {
      "cell_type": "code",
      "source": [
        "str = \"akash salmuthe\""
      ],
      "metadata": {
        "id": "KIlU-NxoEwR1"
      },
      "execution_count": 1,
      "outputs": []
    },
    {
      "cell_type": "code",
      "source": [
        "def solve(s):\n",
        "    for i in s.split():\n",
        "        s = s.replace(i,i.capitalize())\n",
        "    return s\n",
        "\n",
        "s = input().strip()\n",
        "result = solve(s)\n",
        "print(result)"
      ],
      "metadata": {
        "colab": {
          "base_uri": "https://localhost:8080/"
        },
        "id": "XDZvULSFZwB9",
        "outputId": "87553c52-a1ba-4f00-8fd9-e586709ee6c7"
      },
      "execution_count": 12,
      "outputs": [
        {
          "output_type": "stream",
          "name": "stdout",
          "text": [
            "aksh salmuthe\n",
            "Aksh Salmuthe\n"
          ]
        }
      ]
    },
    {
      "cell_type": "code",
      "source": [
        ""
      ],
      "metadata": {
        "id": "MDiu9m_8baX3"
      },
      "execution_count": null,
      "outputs": []
    }
  ]
}