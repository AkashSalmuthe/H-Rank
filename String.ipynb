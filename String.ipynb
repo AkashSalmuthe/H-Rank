{
  "nbformat": 4,
  "nbformat_minor": 0,
  "metadata": {
    "colab": {
      "name": "String.ipynb",
      "provenance": [],
      "collapsed_sections": [],
      "authorship_tag": "ABX9TyMENsDjSP8ww4ea2a6oj76d",
      "include_colab_link": true
    },
    "kernelspec": {
      "name": "python3",
      "display_name": "Python 3"
    },
    "language_info": {
      "name": "python"
    }
  },
  "cells": [
    {
      "cell_type": "markdown",
      "metadata": {
        "id": "view-in-github",
        "colab_type": "text"
      },
      "source": [
        "<a href=\"https://colab.research.google.com/github/AkashSalmuthe/H-Rank/blob/main/String.ipynb\" target=\"_parent\"><img src=\"https://colab.research.google.com/assets/colab-badge.svg\" alt=\"Open In Colab\"/></a>"
      ]
    },
    {
      "cell_type": "markdown",
      "source": [
        "## **Problem 1**\n",
        "\n",
        "### Swap case"
      ],
      "metadata": {
        "id": "UMLE9lTRn4o5"
      }
    },
    {
      "cell_type": "markdown",
      "source": [
        "You are given a string and your task is to swap cases. In other words, convert all lowercase letters to uppercase letters and vice versa."
      ],
      "metadata": {
        "id": "os2qodrgoL4V"
      }
    },
    {
      "cell_type": "code",
      "source": [
        "def swap_case(s):\n",
        "    return s.swapcase()\n",
        "\n",
        "s = input()\n",
        "result = swap_case(s)\n",
        "print(result)"
      ],
      "metadata": {
        "colab": {
          "base_uri": "https://localhost:8080/"
        },
        "id": "Wa_ZgkPloMuD",
        "outputId": "2ed6ac61-9178-4b97-a4a4-5bd3b1be7a2c"
      },
      "execution_count": 1,
      "outputs": [
        {
          "output_type": "stream",
          "name": "stdout",
          "text": [
            "Akash Salmuthe\n",
            "aKASH sALMUTHE\n"
          ]
        }
      ]
    },
    {
      "cell_type": "markdown",
      "source": [
        "## **Problem 2**\n",
        "\n",
        "### Split And Join"
      ],
      "metadata": {
        "id": "aXOdJhbNpkfH"
      }
    },
    {
      "cell_type": "markdown",
      "source": [
        "You are given a string. Split the string on a \" \" (space) delimiter and join using a - hyphen."
      ],
      "metadata": {
        "id": "3cn7TJm9psQP"
      }
    },
    {
      "cell_type": "code",
      "source": [
        "def swap_n_join(line):\n",
        "  str1 = line.split(\" \")\n",
        "  str2 = \"-\".join(str1)\n",
        "  return str2\n",
        "\n",
        "line=input()\n",
        "print(swap_n_join(line))"
      ],
      "metadata": {
        "colab": {
          "base_uri": "https://localhost:8080/"
        },
        "id": "GS94WEvOpTY2",
        "outputId": "d1b4765f-a62e-4f1a-c1ea-ff5b1923e369"
      },
      "execution_count": 2,
      "outputs": [
        {
          "output_type": "stream",
          "name": "stdout",
          "text": [
            "Akash Salmthe\n",
            "Akash-Salmthe\n"
          ]
        }
      ]
    },
    {
      "cell_type": "markdown",
      "source": [
        "## **Problem 3**\n",
        "\n",
        "### Print Full Name\n",
        "\n",
        "You are given the firstname and lastname of a person on two different lines. Your task is to read them and print the following:\n",
        "\n",
        "Hello firstname lastname! You just delved into python.\n",
        "\n",
        "**Function Description**\n",
        "\n",
        "Complete the print_full_name function in the editor below.\n",
        "\n",
        "**print_full_name has the following parameters:**\n",
        "\n",
        "* string first: the first name\n",
        "* string last: the last name"
      ],
      "metadata": {
        "id": "UVwAYaqSy3ee"
      }
    },
    {
      "cell_type": "code",
      "source": [
        "def print_full_name(first, last):\n",
        "    # Write your code here\n",
        "    full_name = first+\" \"+last\n",
        "    print(\"Hello \"+full_name+\"! You just delved into python.\")\n",
        "    \n",
        "\n",
        "first_name = input()\n",
        "last_name = input()\n",
        "print_full_name(first_name, last_name)"
      ],
      "metadata": {
        "colab": {
          "base_uri": "https://localhost:8080/"
        },
        "id": "bjtTJdyfrJiq",
        "outputId": "8349e27a-0799-4ddc-92c9-af1ca20e353d"
      },
      "execution_count": 4,
      "outputs": [
        {
          "output_type": "stream",
          "name": "stdout",
          "text": [
            "Akash\n",
            "Salmuthe\n",
            "Hello Akash Salmuthe! You just delved into python.\n"
          ]
        }
      ]
    },
    {
      "cell_type": "markdown",
      "source": [
        "## **Problem 4**\n",
        "\n",
        "### Mutation\n",
        "\n",
        "We have seen that lists are mutable (they can be changed), and tuples are immutable (they cannot be changed).\n",
        "\n",
        "Let's try to understand this with an example.\n",
        "\n",
        "You are given an **immutable string**, and you want to make changes to it."
      ],
      "metadata": {
        "id": "d9ilsHU30VbX"
      }
    },
    {
      "cell_type": "markdown",
      "source": [
        "**Task**\n",
        "Read a given string, change the character at a given index and then print the modified string.\n",
        "\n",
        "**Function Description**\n",
        "Complete the mutate_string function in the editor below.\n",
        "\n",
        "**mutate_string has the following parameters**:\n",
        "* string string: the string to change\n",
        "* int position: the index to insert the character at\n",
        "* string character: the character to insert\n",
        "\n",
        "**Returns**\n",
        "string: the altered string"
      ],
      "metadata": {
        "id": "OKtbsq291fbj"
      }
    },
    {
      "cell_type": "code",
      "source": [
        "def mutate_string(string,position,character):\n",
        "  lst = list(string)\n",
        "  lst[position] = character\n",
        "  new_string = \"\".join(lst)\n",
        "  print(new_string)\n",
        "\n",
        "s= input()\n",
        "i, c = input().split()\n",
        "s_new = mutate_string(s, int(i), c)\n"
      ],
      "metadata": {
        "colab": {
          "base_uri": "https://localhost:8080/"
        },
        "id": "Gi-Myjl_1teg",
        "outputId": "7f360059-96fe-4649-edbb-91c94d6fb5bb"
      },
      "execution_count": 9,
      "outputs": [
        {
          "output_type": "stream",
          "name": "stdout",
          "text": [
            "Akash Salmuthe\n",
            "5 -\n",
            "Akash-Salmuthe\n"
          ]
        }
      ]
    },
    {
      "cell_type": "markdown",
      "source": [
        "## **Problem 5**\n",
        "\n",
        "### Find a String"
      ],
      "metadata": {
        "id": "w0NzGZ6S37lm"
      }
    },
    {
      "cell_type": "markdown",
      "source": [
        "In this challenge, the user enters a string and a substring. You have to print the number of times that the substring occurs in the given string. String traversal will take place from left to right, not from right to left.\n",
        "\n",
        "**NOTE:** String letters are case-sensitive."
      ],
      "metadata": {
        "id": "seLBUPgB4AaL"
      }
    },
    {
      "cell_type": "code",
      "source": [
        ""
      ],
      "metadata": {
        "id": "AXA-kA2V2Hv9"
      },
      "execution_count": null,
      "outputs": []
    }
  ]
}