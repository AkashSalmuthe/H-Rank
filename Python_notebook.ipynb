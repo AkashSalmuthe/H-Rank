{
  "nbformat": 4,
  "nbformat_minor": 0,
  "metadata": {
    "colab": {
      "name": "Python notebook.ipynb",
      "provenance": [],
      "collapsed_sections": [],
      "authorship_tag": "ABX9TyPVAh7RProa2EVcJJBqW0FJ",
      "include_colab_link": true
    },
    "kernelspec": {
      "name": "python3",
      "display_name": "Python 3"
    },
    "language_info": {
      "name": "python"
    }
  },
  "cells": [
    {
      "cell_type": "markdown",
      "metadata": {
        "id": "view-in-github",
        "colab_type": "text"
      },
      "source": [
        "<a href=\"https://colab.research.google.com/github/AkashSalmuthe/H-Rank/blob/main/Python_notebook.ipynb\" target=\"_parent\"><img src=\"https://colab.research.google.com/assets/colab-badge.svg\" alt=\"Open In Colab\"/></a>"
      ]
    },
    {
      "cell_type": "markdown",
      "source": [
        "## **Problem 1**\n",
        "\n",
        "### Print Hello World!"
      ],
      "metadata": {
        "id": "FdHmMZ-qlUDT"
      }
    },
    {
      "cell_type": "code",
      "source": [
        "my_string = \"Hello, World!\"\n",
        "print(my_string)"
      ],
      "metadata": {
        "colab": {
          "base_uri": "https://localhost:8080/"
        },
        "id": "I0b8yaiDlf_U",
        "outputId": "687c571f-4b75-4078-db32-de72a6576c68"
      },
      "execution_count": null,
      "outputs": [
        {
          "output_type": "stream",
          "name": "stdout",
          "text": [
            "Hello, World!\n"
          ]
        }
      ]
    },
    {
      "cell_type": "markdown",
      "source": [
        "## **Problem 2**\n",
        "\n",
        "### If-Else"
      ],
      "metadata": {
        "id": "bnCAW68znzyp"
      }
    },
    {
      "cell_type": "markdown",
      "source": [
        "Given an integer, n, perform the following conditional actions:\n",
        "\n",
        "* If n is odd, print Weird\n",
        "* If n is even and in the inclusive range of 2 to 5, print Not Weird\n",
        "* If n is even and in the inclusive range of 6 to 20, print Weird\n",
        "* If n is even and greater than 20, print Not Weird"
      ],
      "metadata": {
        "id": "k-p9gK4kn70S"
      }
    },
    {
      "cell_type": "code",
      "source": [
        "n = int(input(\"Enter the Integer\").strip())\n",
        "\n",
        "if 1<=n<=100:\n",
        "  if n%2 !=0:\n",
        "    print('Weird')\n",
        "  elif 2<=n<=5:\n",
        "    print('Not Weird')\n",
        "  elif 6<=n<=20:\n",
        "    print(\"Weired\")\n",
        "  else:\n",
        "    print('Not Weird')\n",
        "else:\n",
        "  print(\"Out of SCope\")"
      ],
      "metadata": {
        "colab": {
          "base_uri": "https://localhost:8080/"
        },
        "id": "_scrTnXanzcJ",
        "outputId": "e6eec73f-0dac-430f-b1c0-0cadfcb02a5d"
      },
      "execution_count": null,
      "outputs": [
        {
          "output_type": "stream",
          "name": "stdout",
          "text": [
            "Enter the Integer1\n",
            "Weird\n"
          ]
        }
      ]
    },
    {
      "cell_type": "markdown",
      "source": [
        "## **Problem 3**\n",
        "\n",
        "### Arithmetic-Operators"
      ],
      "metadata": {
        "id": "kNx2KnjZqQBX"
      }
    },
    {
      "cell_type": "markdown",
      "source": [
        "The provided code stub reads two integers from STDIN, a and b. Add code to print three lines where:\n",
        "\n",
        "1. The first line contains the sum of the two numbers.\n",
        "2. The second line contains the difference of the two numbers (first - second).\n",
        "3. The third line contains the product of the two numbers."
      ],
      "metadata": {
        "id": "s4buoiCLqWVZ"
      }
    },
    {
      "cell_type": "code",
      "source": [
        "a = int(input().strip())\n",
        "b = int(input().strip())\n",
        "\n",
        "print()\n",
        "\n",
        "print(a+b)\n",
        "print(a-b)\n",
        "print(a*b)"
      ],
      "metadata": {
        "colab": {
          "base_uri": "https://localhost:8080/"
        },
        "id": "BuuGpuxApj2-",
        "outputId": "ee61ef91-ca19-41a1-c9ed-c395308ca94c"
      },
      "execution_count": null,
      "outputs": [
        {
          "output_type": "stream",
          "name": "stdout",
          "text": [
            "3\n",
            "5\n",
            "\n",
            "8\n",
            "-2\n",
            "15\n"
          ]
        }
      ]
    },
    {
      "cell_type": "markdown",
      "source": [
        "## **Problem 4**\n",
        "\n",
        "## Division"
      ],
      "metadata": {
        "id": "3tX5-IUtrXeS"
      }
    },
    {
      "cell_type": "markdown",
      "source": [
        "The provided code stub reads two integers, a and b, from STDIN.\n",
        "\n",
        "Add logic to print two lines. The first line should contain the result of integer division,  a// b. The second line should contain the result of float division,  a/b .\n",
        "\n",
        "No rounding or formatting is necessary."
      ],
      "metadata": {
        "id": "PduWCre7rmfM"
      }
    },
    {
      "cell_type": "code",
      "source": [
        "a,b = int(input().strip()),int(input().strip())\n",
        "\n",
        "print()\n",
        "print(a//b)\n",
        "print(a/b)"
      ],
      "metadata": {
        "colab": {
          "base_uri": "https://localhost:8080/"
        },
        "id": "tVNKLQDvqzV4",
        "outputId": "f4d179b2-a37c-4b07-add6-9bc413055c52"
      },
      "execution_count": null,
      "outputs": [
        {
          "output_type": "stream",
          "name": "stdout",
          "text": [
            "3\n",
            "5\n",
            "\n",
            "0\n",
            "0.6\n"
          ]
        }
      ]
    },
    {
      "cell_type": "markdown",
      "source": [
        "## **Problem 5**\n",
        "\n",
        "### Loops"
      ],
      "metadata": {
        "id": "oRn602IhsBfP"
      }
    },
    {
      "cell_type": "markdown",
      "source": [
        "The provided code stub reads and integer, n, from STDIN. \n",
        "    For all non-negative integers i<n, print i^2"
      ],
      "metadata": {
        "id": "glOFwLqjskv_"
      }
    },
    {
      "cell_type": "code",
      "source": [
        "n = int(input().strip())\n",
        "\n",
        "i=0\n",
        "if i<n:\n",
        "  for sqr in range(0,n):\n",
        "    print(sqr*sqr)"
      ],
      "metadata": {
        "colab": {
          "base_uri": "https://localhost:8080/"
        },
        "id": "5gKwW94Ssq4y",
        "outputId": "484384be-eb24-4c2c-8aee-a9479be8e583"
      },
      "execution_count": null,
      "outputs": [
        {
          "output_type": "stream",
          "name": "stdout",
          "text": [
            "3\n",
            "0\n",
            "1\n",
            "4\n"
          ]
        }
      ]
    },
    {
      "cell_type": "markdown",
      "source": [
        "## **Problem 6**\n",
        "\n",
        "### Write a function"
      ],
      "metadata": {
        "id": "e1X8qnpauIbl"
      }
    },
    {
      "cell_type": "markdown",
      "source": [
        "Given a year, determine whether it is a leap year. If it is a leap year, return the Boolean True, otherwise return False.\n",
        "\n",
        "Note that the code stub provided reads from STDIN and passes arguments to the is_leap function. It is only necessary to complete the is_leap function.\n",
        "\n",
        "**input is year**\n",
        "\n",
        "* The year can be evenly divided by 4, is a leap year, unless:\n",
        "* The year can be evenly divided by 100, it is NOT a leap year, unless:\n",
        "* The year is also evenly divisible by 400. Then it is a leap year."
      ],
      "metadata": {
        "id": "sb6k8yGFuOdj"
      }
    },
    {
      "cell_type": "code",
      "source": [
        "def is_leap(year):\n",
        "    leap = False\n",
        "    \n",
        "    # Write your logic here\n",
        "    if year % 400 == 0:\n",
        "        leap = True\n",
        "    elif year % 100 == 0:\n",
        "        leap = False\n",
        "    elif year % 4 == 0:\n",
        "        leap = True\n",
        "    return leap\n",
        "\n",
        "year = int(input())\n",
        "print(is_leap(year))"
      ],
      "metadata": {
        "colab": {
          "base_uri": "https://localhost:8080/"
        },
        "id": "FcGWLphPtNXs",
        "outputId": "65f6fa74-a056-4953-bc7a-029b3343f524"
      },
      "execution_count": null,
      "outputs": [
        {
          "output_type": "stream",
          "name": "stdout",
          "text": [
            "1990\n",
            "False\n"
          ]
        }
      ]
    },
    {
      "cell_type": "markdown",
      "source": [
        "## **Problem 7**\n",
        "\n",
        "### Print Function"
      ],
      "metadata": {
        "id": "_uFDkYoE0b3d"
      }
    },
    {
      "cell_type": "markdown",
      "source": [
        "The included code stub will read an integer, n, from STDIN.\n",
        "\n",
        "Without using any string methods, try to print the following:\n",
        "\n",
        "123....n\n",
        "\n",
        "\n",
        "**Note that** \"\" represents the consecutive values in between.\n",
        "\n",
        "Example:\n",
        "**n=5**\n",
        "\n",
        "Print the string **12345**.\n",
        "\n",
        "**Input Format:**\n",
        "\n",
        "The first line contains an integer n."
      ],
      "metadata": {
        "id": "wZYCPyt90iUW"
      }
    },
    {
      "cell_type": "code",
      "source": [
        "n = int(input().strip())\n",
        "\n",
        "for i in range(1,n+1):\n",
        "  print(i,end='')"
      ],
      "metadata": {
        "colab": {
          "base_uri": "https://localhost:8080/"
        },
        "id": "Vjnxh0oivsmh",
        "outputId": "75098de4-660c-4f1a-cb4b-365ebb479dad"
      },
      "execution_count": null,
      "outputs": [
        {
          "output_type": "stream",
          "name": "stdout",
          "text": [
            "5\n",
            "12345"
          ]
        }
      ]
    },
    {
      "cell_type": "code",
      "source": [
        ""
      ],
      "metadata": {
        "id": "kidwLwKe1MHe"
      },
      "execution_count": null,
      "outputs": []
    }
  ]
}