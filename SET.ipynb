{
  "nbformat": 4,
  "nbformat_minor": 0,
  "metadata": {
    "colab": {
      "name": "SET.ipynb",
      "provenance": [],
      "authorship_tag": "ABX9TyNxA0xaOvx6/CCbIiRoS71m"
    },
    "kernelspec": {
      "name": "python3",
      "display_name": "Python 3"
    },
    "language_info": {
      "name": "python"
    }
  },
  "cells": [
    {
      "cell_type": "markdown",
      "source": [
        "A set is an unordered collection of elements without duplicate entries.\n",
        "When printed, iterated or converted into a sequence, its elements will appear in an arbitrary order."
      ],
      "metadata": {
        "id": "KLhPgbVgEB5K"
      }
    },
    {
      "cell_type": "markdown",
      "source": [
        "## **Problem 1**\n",
        "\n",
        "### Introduction to set"
      ],
      "metadata": {
        "id": "x29SqQh6EOgV"
      }
    },
    {
      "cell_type": "markdown",
      "source": [
        "Now, let's use our knowledge of sets and help Mickey.\n",
        "\n",
        "Ms. Gabriel Williams is a botany professor at District College. One day, she asked her student Mickey to compute the average of all the plants with distinct heights in her greenhouse.\n"
      ],
      "metadata": {
        "id": "lnx2m1guETgS"
      }
    },
    {
      "cell_type": "code",
      "source": [
        "def average(array):\n",
        "    return sum(set(array))/len(set(array))\n",
        "\n",
        "n = int(input())\n",
        "arr = list(map(int, input().split()))\n",
        "result = average(arr)\n",
        "print(result)"
      ],
      "metadata": {
        "colab": {
          "base_uri": "https://localhost:8080/"
        },
        "id": "ap_BrfkUEDkP",
        "outputId": "17a404c0-a8ff-40da-ff48-275dae22ddd6"
      },
      "execution_count": null,
      "outputs": [
        {
          "output_type": "stream",
          "name": "stdout",
          "text": [
            "3\n",
            "10 20 50\n",
            "26.666666666666668\n"
          ]
        }
      ]
    },
    {
      "cell_type": "markdown",
      "source": [
        "## **Problem 2**\n",
        "\n",
        "### NO IDea"
      ],
      "metadata": {
        "id": "ua8sp4kUWusM"
      }
    },
    {
      "cell_type": "code",
      "source": [
        "input()\n",
        "m = list(input().split())\n",
        "a = set(input().split())\n",
        "b = set(input().split())\n",
        "print(sum((i in a) - (i in b) for i in m))"
      ],
      "metadata": {
        "colab": {
          "base_uri": "https://localhost:8080/"
        },
        "id": "H2AZW4xmXeFe",
        "outputId": "84489325-0529-45ed-bc76-8b3794849711"
      },
      "execution_count": null,
      "outputs": [
        {
          "output_type": "stream",
          "name": "stdout",
          "text": [
            "2\n",
            "3\n",
            "4\n",
            "5\n",
            "0\n"
          ]
        }
      ]
    },
    {
      "cell_type": "markdown",
      "source": [
        "## **Problem 3**\n",
        "\n",
        "### Symmetric-Difference"
      ],
      "metadata": {
        "id": "duYIhtqdckTh"
      }
    },
    {
      "cell_type": "code",
      "source": [
        "input()\n",
        "a = set(map(int,input().split()))\n",
        "input()\n",
        "b = set(map(int,input().split()))\n",
        "a_d = a.difference(b)\n",
        "b_d = b.difference(a)\n",
        "for i in b_d:\n",
        "    a_d.add(i)\n",
        "for i in sorted(a_d):\n",
        "    print(i)"
      ],
      "metadata": {
        "colab": {
          "base_uri": "https://localhost:8080/"
        },
        "id": "OcMaARgGuNzM",
        "outputId": "f23ba487-1ab2-4aac-b017-731577266dcb"
      },
      "execution_count": 1,
      "outputs": [
        {
          "output_type": "stream",
          "name": "stdout",
          "text": [
            "4\n",
            "4 5 6 7\n",
            "4\n",
            "5 7 9 11\n",
            "4\n",
            "6\n",
            "9\n",
            "11\n"
          ]
        }
      ]
    },
    {
      "cell_type": "markdown",
      "source": [
        "## **Problem 4**\n",
        "\n",
        "### Set ADD()"
      ],
      "metadata": {
        "id": "INuD8dZ-uQOP"
      }
    },
    {
      "cell_type": "markdown",
      "source": [
        "Apply your knowledge of the .add() operation to help your friend Rupal.\n",
        "\n",
        "Rupal has a huge collection of country stamps. She decided to count the total number of distinct country stamps in her collection. She asked for your help. You pick the stamps one by one from a stack of **N** country stamps.\n",
        "\n",
        "Find the total number of distinct country stamps."
      ],
      "metadata": {
        "id": "6WPmMZOtvLfU"
      }
    },
    {
      "cell_type": "code",
      "source": [
        "n = int(input())\n",
        "stamps = set()\n",
        "\n",
        "while n > 0:\n",
        "    stamps.add(input())\n",
        "    n -= 1\n",
        "    \n",
        "print(len(stamps))"
      ],
      "metadata": {
        "colab": {
          "base_uri": "https://localhost:8080/"
        },
        "id": "0vYBXKVLudeK",
        "outputId": "e5b26456-367a-4a9b-c4c1-4ceda60d32cd"
      },
      "execution_count": 3,
      "outputs": [
        {
          "output_type": "stream",
          "name": "stdout",
          "text": [
            "7\n",
            "IND\n",
            "PAK\n",
            "IND\n",
            "NAM\n",
            "ZIM\n",
            "PAk\n",
            "NAM\n",
            "5\n"
          ]
        }
      ]
    },
    {
      "cell_type": "markdown",
      "source": [
        "## **Problem 5**\n",
        "\n",
        "### Set Operation"
      ],
      "metadata": {
        "id": "K1GtYWQExFaB"
      }
    },
    {
      "cell_type": "code",
      "source": [
        ""
      ],
      "metadata": {
        "id": "oshw_QJ4yzLY"
      },
      "execution_count": null,
      "outputs": []
    },
    {
      "cell_type": "markdown",
      "source": [
        "## **Problem 6**\n",
        "\n",
        "### Union"
      ],
      "metadata": {
        "id": "8YGjIAZOy0Fd"
      }
    },
    {
      "cell_type": "markdown",
      "source": [
        "The students of District College have subscriptions to English and French newspapers. Some students have subscribed only to English, some have subscribed to only French and some have subscribed to both newspapers.\n",
        "\n",
        "You are given two sets of student roll numbers. One set has subscribed to the English newspaper, and the other set is subscribed to the French newspaper. The same student could be in both sets. Your task is to find the total number of students who have subscribed to at least one newspaper."
      ],
      "metadata": {
        "id": "q79upOUhy3kx"
      }
    },
    {
      "cell_type": "code",
      "source": [
        "input()\n",
        "a = set(map(int,input().split()))\n",
        "\n",
        "input()\n",
        "b = set(map(int,input().split()))\n",
        "print(len(a.union(b)))"
      ],
      "metadata": {
        "colab": {
          "base_uri": "https://localhost:8080/"
        },
        "id": "8BBGdZPvz7LC",
        "outputId": "a8511aa2-9755-47da-b3d4-d4268ca83299"
      },
      "execution_count": 5,
      "outputs": [
        {
          "output_type": "stream",
          "name": "stdout",
          "text": [
            "9\n",
            "1 2 3 4 5 6 7 8 9\n",
            "9\n",
            "1 3 5 7 9 11 13 15 17\n",
            "13\n"
          ]
        }
      ]
    },
    {
      "cell_type": "markdown",
      "source": [
        "## **Problem 6**\n",
        "\n",
        "### Intersection"
      ],
      "metadata": {
        "id": "pXrRmjZy2wGt"
      }
    },
    {
      "cell_type": "markdown",
      "source": [
        "The students of District College have subscriptions to English and French newspapers. Some students have subscribed only to English, some have subscribed only to French, and some have subscribed to both newspapers.\n",
        "\n",
        "You are given two sets of student roll numbers. One set has subscribed to the English newspaper, one set has subscribed to the French newspaper. Your task is to find the total number of students who have subscribed to both newspapers."
      ],
      "metadata": {
        "id": "zGNKvKi4255r"
      }
    },
    {
      "cell_type": "code",
      "source": [
        ""
      ],
      "metadata": {
        "id": "fNM7H5Eq2Z1d"
      },
      "execution_count": null,
      "outputs": []
    }
  ]
}